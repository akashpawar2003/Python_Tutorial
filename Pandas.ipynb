{
 "cells": [
  {
   "cell_type": "code",
   "execution_count": 2,
   "id": "39b5c995-3ce4-4bd4-8dfc-b9bdd265dec0",
   "metadata": {},
   "outputs": [],
   "source": [
    "import numpy as np \n",
    "import pandas as pd"
   ]
  },
  {
   "cell_type": "code",
   "execution_count": 17,
   "id": "dbe0597d-b443-4dfd-983b-79f250a62bd1",
   "metadata": {},
   "outputs": [
    {
     "name": "stdout",
     "output_type": "stream",
     "text": [
      "    cars  passings  price\n",
      "0    BMW         3    100\n",
      "1  Volvo         7    300\n",
      "2   Ford         2    400\n"
     ]
    }
   ],
   "source": [
    "mydataset = {\n",
    "  \"cars\": [\"BMW\", \"Volvo\", \"Ford\"],\n",
    "  \"passings\": [3, 7, 2],\n",
    "  \"price\":[100,300,400]\n",
    "  \n",
    "}\n",
    "\n",
    "myvar = pd.DataFrame(mydataset)\n",
    "\n",
    "print(myvar)\n",
    "\n"
   ]
  },
  {
   "cell_type": "code",
   "execution_count": 18,
   "id": "20654cd8-39cd-461e-95ef-2c38cc0505e2",
   "metadata": {},
   "outputs": [
    {
     "name": "stdout",
     "output_type": "stream",
     "text": [
      "0    1\n",
      "1    7\n",
      "2    2\n",
      "dtype: int64\n"
     ]
    }
   ],
   "source": [
    "a = [1, 7, 2]\n",
    "myvar = pd.Series(a)\n",
    "print(myvar)\n"
   ]
  },
  {
   "cell_type": "code",
   "execution_count": 20,
   "id": "90261275-8b61-4f84-bf8a-876eedfb4823",
   "metadata": {},
   "outputs": [
    {
     "name": "stdout",
     "output_type": "stream",
     "text": [
      "x    1\n",
      "y    7\n",
      "z    2\n",
      "dtype: int64\n",
      "7\n"
     ]
    }
   ],
   "source": [
    "a = [1, 7, 2]\n",
    "myvar = pd.Series(a, index = [\"x\", \"y\", \"z\"])\n",
    "print(myvar)\n",
    "print(myvar[\"y\"])"
   ]
  },
  {
   "cell_type": "code",
   "execution_count": 21,
   "id": "fcea19f7-4e39-4ba8-84c0-f5f2c2ddf7bb",
   "metadata": {},
   "outputs": [
    {
     "name": "stdout",
     "output_type": "stream",
     "text": [
      "day1    420\n",
      "day2    380\n",
      "day3    390\n",
      "dtype: int64\n"
     ]
    }
   ],
   "source": [
    "calories = {\"day1\": 420, \"day2\": 380, \"day3\": 390}\n",
    "myvar = pd.Series(calories)\n",
    "print(myvar)"
   ]
  },
  {
   "cell_type": "code",
   "execution_count": 30,
   "id": "4979fc4b-8a3f-4581-851d-40a04fbb0c6d",
   "metadata": {},
   "outputs": [
    {
     "name": "stdout",
     "output_type": "stream",
     "text": [
      "          calories  duration\n",
      "sunday         500        50\n",
      "monday         380        40\n",
      "thursday       390        30\n",
      "<class 'pandas.core.frame.DataFrame'>\n",
      "Index: 3 entries, sunday to thursday\n",
      "Data columns (total 2 columns):\n",
      " #   Column    Non-Null Count  Dtype\n",
      "---  ------    --------------  -----\n",
      " 0   calories  3 non-null      int64\n",
      " 1   duration  3 non-null      int64\n",
      "dtypes: int64(2)\n",
      "memory usage: 72.0+ bytes\n"
     ]
    }
   ],
   "source": [
    "import pandas as pd\n",
    "data = {\n",
    "  \"calories\": [ 500 , 380, 390],\n",
    "  \"duration\": [50, 40, 30 ]     \n",
    "}\n",
    "df = pd.DataFrame(data, index = [\"sunday\", \"monday\", \"thursday\"])\n",
    "print(df) \n",
    "df.info()\n"
   ]
  },
  {
   "cell_type": "code",
   "execution_count": 35,
   "id": "a5bee3c5-52bd-427e-97af-74496b999c72",
   "metadata": {},
   "outputs": [
    {
     "name": "stdout",
     "output_type": "stream",
     "text": [
      "<class 'pandas.core.frame.DataFrame'>\n",
      "Index: 3 entries, sunday to thursday\n",
      "Data columns (total 2 columns):\n",
      " #   Column    Non-Null Count  Dtype\n",
      "---  ------    --------------  -----\n",
      " 0   calories  3 non-null      int64\n",
      " 1   duration  3 non-null      int64\n",
      "dtypes: int64(2)\n",
      "memory usage: 72.0+ bytes\n"
     ]
    }
   ],
   "source": [
    "df.isnull()\n",
    "df.describe()\n",
    "df.info()\n"
   ]
  },
  {
   "cell_type": "code",
   "execution_count": 43,
   "id": "57454ef8-f5ad-487c-9f0f-4d588aec2c7e",
   "metadata": {},
   "outputs": [
    {
     "data": {
      "text/plain": [
       "'C:\\\\Users\\\\akash\\\\OneDrive\\\\Desktop\\\\Jupyter Notebook\\\\All Python Program Files'"
      ]
     },
     "execution_count": 43,
     "metadata": {},
     "output_type": "execute_result"
    }
   ],
   "source": [
    "import os\n",
    "os.getcwd()"
   ]
  },
  {
   "cell_type": "code",
   "execution_count": 51,
   "id": "d1239e87-380d-4949-be1f-9a0758ca0d1f",
   "metadata": {},
   "outputs": [
    {
     "name": "stdout",
     "output_type": "stream",
     "text": [
      "Requirement already satisfied: openpyxl in c:\\users\\akash\\appdata\\local\\programs\\python\\python312\\lib\\site-packages (3.1.5)\n",
      "Requirement already satisfied: et-xmlfile in c:\\users\\akash\\appdata\\local\\programs\\python\\python312\\lib\\site-packages (from openpyxl) (2.0.0)\n"
     ]
    },
    {
     "name": "stderr",
     "output_type": "stream",
     "text": [
      "\n",
      "[notice] A new release of pip is available: 24.0 -> 24.3.1\n",
      "[notice] To update, run: python.exe -m pip install --upgrade pip\n"
     ]
    }
   ],
   "source": [
    "!pip install openpyxl\n",
    "import numpy as np\n",
    "import pandas as pd \n",
    "df=pd.read_excel(\"Hiring Process.xlsx\")"
   ]
  },
  {
   "cell_type": "code",
   "execution_count": 50,
   "id": "b2b03414-93f2-4259-a0cd-621e205df2ec",
   "metadata": {},
   "outputs": [
    {
     "name": "stdout",
     "output_type": "stream",
     "text": [
      "      application_id  Interview Taken on    Status event_name  \\\n",
      "0             383422 2014-05-01 11:40:49     Hired       Male   \n",
      "1             907518 2014-05-06 08:08:32     Hired     Female   \n",
      "2             176719 2014-05-06 08:08:54  Rejected       Male   \n",
      "3             429799 2014-05-02 16:28:59  Rejected     Female   \n",
      "4             253651 2014-05-02 16:32:26     Hired       Male   \n",
      "...              ...                 ...       ...        ...   \n",
      "7163          493131 2014-08-28 17:32:33     Hired       Male   \n",
      "7164          214261 2014-08-31 01:36:21     Hired     Female   \n",
      "7165          932441 2014-08-31 01:37:59     Hired       Male   \n",
      "7166           39010 2014-08-31 01:38:23  Rejected       Male   \n",
      "7167          686055 2014-08-26 12:14:53     Hired       Male   \n",
      "\n",
      "                 Department Post Name  Offered Salary  \n",
      "0        Service Department        c8         56553.0  \n",
      "1        Service Department        c5         22075.0  \n",
      "2        Service Department        c5         70069.0  \n",
      "3     Operations Department        i4          3207.0  \n",
      "4     Operations Department        i4         29668.0  \n",
      "...                     ...       ...             ...  \n",
      "7163     Service Department        c9         49282.0  \n",
      "7164     Service Department        c5         57742.0  \n",
      "7165     Service Department        c5         69932.0  \n",
      "7166     Service Department        c5         14489.0  \n",
      "7167  Operations Department        c5         54201.0  \n",
      "\n",
      "[7168 rows x 7 columns]\n"
     ]
    }
   ],
   "source": [
    "print(df)"
   ]
  },
  {
   "cell_type": "code",
   "execution_count": 52,
   "id": "e7974937-c4cc-449a-8b50-665bca4a569e",
   "metadata": {},
   "outputs": [
    {
     "name": "stdout",
     "output_type": "stream",
     "text": [
      "      application_id    Status event_name  Department  Unnamed: 4 Unnamed: 5\n",
      "0             383422     Hired       Male     Service         NaN        NaN\n",
      "1             907518     Hired     Female     Service         NaN        NaN\n",
      "2             176719  Rejected       Male     Service         NaN        NaN\n",
      "3             429799  Rejected     Female  Operations         NaN        NaN\n",
      "4             253651     Hired       Male  Operations         NaN        NaN\n",
      "...              ...       ...        ...         ...         ...        ...\n",
      "7163          493131     Hired       Male     Service         NaN        NaN\n",
      "7164          214261     Hired     Female     Service         NaN        NaN\n",
      "7165          932441     Hired       Male     Service         NaN        NaN\n",
      "7166           39010  Rejected       Male     Service         NaN        NaN\n",
      "7167          686055     Hired       Male  Operations         NaN        NaN\n",
      "\n",
      "[7168 rows x 6 columns]\n"
     ]
    }
   ],
   "source": [
    "df=pd.read_excel(\"Hiring Process.xlsx\")\n",
    "print(df)"
   ]
  },
  {
   "cell_type": "code",
   "execution_count": 53,
   "id": "48648737-1c4b-4b8b-96cc-b0ad0fde983c",
   "metadata": {},
   "outputs": [
    {
     "name": "stdout",
     "output_type": "stream",
     "text": [
      "Empty DataFrame\n",
      "Columns: [application_id, Status, event_name, Department, Unnamed: 4, Unnamed: 5]\n",
      "Index: []\n"
     ]
    }
   ],
   "source": [
    "new_df = df.dropna()\n",
    "print(new_df.to_string())\n"
   ]
  },
  {
   "cell_type": "code",
   "execution_count": 54,
   "id": "1650fa17-bcf2-49d0-918d-30bede7a3d4b",
   "metadata": {},
   "outputs": [
    {
     "data": {
      "text/html": [
       "<div>\n",
       "<style scoped>\n",
       "    .dataframe tbody tr th:only-of-type {\n",
       "        vertical-align: middle;\n",
       "    }\n",
       "\n",
       "    .dataframe tbody tr th {\n",
       "        vertical-align: top;\n",
       "    }\n",
       "\n",
       "    .dataframe thead th {\n",
       "        text-align: right;\n",
       "    }\n",
       "</style>\n",
       "<table border=\"1\" class=\"dataframe\">\n",
       "  <thead>\n",
       "    <tr style=\"text-align: right;\">\n",
       "      <th></th>\n",
       "      <th>application_id</th>\n",
       "      <th>Status</th>\n",
       "      <th>event_name</th>\n",
       "      <th>Department</th>\n",
       "      <th>Unnamed: 4</th>\n",
       "      <th>Unnamed: 5</th>\n",
       "    </tr>\n",
       "  </thead>\n",
       "  <tbody>\n",
       "    <tr>\n",
       "      <th>0</th>\n",
       "      <td>383422</td>\n",
       "      <td>Hired</td>\n",
       "      <td>Male</td>\n",
       "      <td>Service</td>\n",
       "      <td>NaN</td>\n",
       "      <td>NaN</td>\n",
       "    </tr>\n",
       "    <tr>\n",
       "      <th>1</th>\n",
       "      <td>907518</td>\n",
       "      <td>Hired</td>\n",
       "      <td>Female</td>\n",
       "      <td>Service</td>\n",
       "      <td>NaN</td>\n",
       "      <td>NaN</td>\n",
       "    </tr>\n",
       "    <tr>\n",
       "      <th>2</th>\n",
       "      <td>176719</td>\n",
       "      <td>Rejected</td>\n",
       "      <td>Male</td>\n",
       "      <td>Service</td>\n",
       "      <td>NaN</td>\n",
       "      <td>NaN</td>\n",
       "    </tr>\n",
       "    <tr>\n",
       "      <th>3</th>\n",
       "      <td>429799</td>\n",
       "      <td>Rejected</td>\n",
       "      <td>Female</td>\n",
       "      <td>Operations</td>\n",
       "      <td>NaN</td>\n",
       "      <td>NaN</td>\n",
       "    </tr>\n",
       "    <tr>\n",
       "      <th>4</th>\n",
       "      <td>253651</td>\n",
       "      <td>Hired</td>\n",
       "      <td>Male</td>\n",
       "      <td>Operations</td>\n",
       "      <td>NaN</td>\n",
       "      <td>NaN</td>\n",
       "    </tr>\n",
       "    <tr>\n",
       "      <th>...</th>\n",
       "      <td>...</td>\n",
       "      <td>...</td>\n",
       "      <td>...</td>\n",
       "      <td>...</td>\n",
       "      <td>...</td>\n",
       "      <td>...</td>\n",
       "    </tr>\n",
       "    <tr>\n",
       "      <th>7163</th>\n",
       "      <td>493131</td>\n",
       "      <td>Hired</td>\n",
       "      <td>Male</td>\n",
       "      <td>Service</td>\n",
       "      <td>NaN</td>\n",
       "      <td>NaN</td>\n",
       "    </tr>\n",
       "    <tr>\n",
       "      <th>7164</th>\n",
       "      <td>214261</td>\n",
       "      <td>Hired</td>\n",
       "      <td>Female</td>\n",
       "      <td>Service</td>\n",
       "      <td>NaN</td>\n",
       "      <td>NaN</td>\n",
       "    </tr>\n",
       "    <tr>\n",
       "      <th>7165</th>\n",
       "      <td>932441</td>\n",
       "      <td>Hired</td>\n",
       "      <td>Male</td>\n",
       "      <td>Service</td>\n",
       "      <td>NaN</td>\n",
       "      <td>NaN</td>\n",
       "    </tr>\n",
       "    <tr>\n",
       "      <th>7166</th>\n",
       "      <td>39010</td>\n",
       "      <td>Rejected</td>\n",
       "      <td>Male</td>\n",
       "      <td>Service</td>\n",
       "      <td>NaN</td>\n",
       "      <td>NaN</td>\n",
       "    </tr>\n",
       "    <tr>\n",
       "      <th>7167</th>\n",
       "      <td>686055</td>\n",
       "      <td>Hired</td>\n",
       "      <td>Male</td>\n",
       "      <td>Operations</td>\n",
       "      <td>NaN</td>\n",
       "      <td>NaN</td>\n",
       "    </tr>\n",
       "  </tbody>\n",
       "</table>\n",
       "<p>7168 rows × 6 columns</p>\n",
       "</div>"
      ],
      "text/plain": [
       "      application_id    Status event_name  Department  Unnamed: 4 Unnamed: 5\n",
       "0             383422     Hired       Male     Service         NaN        NaN\n",
       "1             907518     Hired     Female     Service         NaN        NaN\n",
       "2             176719  Rejected       Male     Service         NaN        NaN\n",
       "3             429799  Rejected     Female  Operations         NaN        NaN\n",
       "4             253651     Hired       Male  Operations         NaN        NaN\n",
       "...              ...       ...        ...         ...         ...        ...\n",
       "7163          493131     Hired       Male     Service         NaN        NaN\n",
       "7164          214261     Hired     Female     Service         NaN        NaN\n",
       "7165          932441     Hired       Male     Service         NaN        NaN\n",
       "7166           39010  Rejected       Male     Service         NaN        NaN\n",
       "7167          686055     Hired       Male  Operations         NaN        NaN\n",
       "\n",
       "[7168 rows x 6 columns]"
      ]
     },
     "execution_count": 54,
     "metadata": {},
     "output_type": "execute_result"
    }
   ],
   "source": [
    "df"
   ]
  },
  {
   "cell_type": "code",
   "execution_count": 57,
   "id": "b56da86c-f9dd-4e55-a382-6b9d8cc9436d",
   "metadata": {},
   "outputs": [],
   "source": [
    "a=df.isnull().sum()\n"
   ]
  },
  {
   "cell_type": "code",
   "execution_count": 58,
   "id": "97ad638e-3a3e-4aa4-bda4-8dd9409fc132",
   "metadata": {},
   "outputs": [
    {
     "data": {
      "text/plain": [
       "application_id       0\n",
       "Status               0\n",
       "event_name           0\n",
       "Department           0\n",
       "Unnamed: 4        7168\n",
       "Unnamed: 5        7071\n",
       "dtype: int64"
      ]
     },
     "execution_count": 58,
     "metadata": {},
     "output_type": "execute_result"
    }
   ],
   "source": [
    "a"
   ]
  },
  {
   "cell_type": "code",
   "execution_count": 59,
   "id": "824a1633-64b7-4fcf-8e97-58991ad73e86",
   "metadata": {},
   "outputs": [
    {
     "data": {
      "text/html": [
       "<div>\n",
       "<style scoped>\n",
       "    .dataframe tbody tr th:only-of-type {\n",
       "        vertical-align: middle;\n",
       "    }\n",
       "\n",
       "    .dataframe tbody tr th {\n",
       "        vertical-align: top;\n",
       "    }\n",
       "\n",
       "    .dataframe thead th {\n",
       "        text-align: right;\n",
       "    }\n",
       "</style>\n",
       "<table border=\"1\" class=\"dataframe\">\n",
       "  <thead>\n",
       "    <tr style=\"text-align: right;\">\n",
       "      <th></th>\n",
       "      <th>application_id</th>\n",
       "      <th>Status</th>\n",
       "      <th>event_name</th>\n",
       "      <th>Department</th>\n",
       "      <th>Unnamed: 4</th>\n",
       "      <th>Unnamed: 5</th>\n",
       "    </tr>\n",
       "  </thead>\n",
       "  <tbody>\n",
       "    <tr>\n",
       "      <th>0</th>\n",
       "      <td>383422</td>\n",
       "      <td>Hired</td>\n",
       "      <td>Male</td>\n",
       "      <td>Service</td>\n",
       "      <td>130.0</td>\n",
       "      <td>130</td>\n",
       "    </tr>\n",
       "    <tr>\n",
       "      <th>1</th>\n",
       "      <td>907518</td>\n",
       "      <td>Hired</td>\n",
       "      <td>Female</td>\n",
       "      <td>Service</td>\n",
       "      <td>130.0</td>\n",
       "      <td>130</td>\n",
       "    </tr>\n",
       "    <tr>\n",
       "      <th>2</th>\n",
       "      <td>176719</td>\n",
       "      <td>Rejected</td>\n",
       "      <td>Male</td>\n",
       "      <td>Service</td>\n",
       "      <td>130.0</td>\n",
       "      <td>130</td>\n",
       "    </tr>\n",
       "    <tr>\n",
       "      <th>3</th>\n",
       "      <td>429799</td>\n",
       "      <td>Rejected</td>\n",
       "      <td>Female</td>\n",
       "      <td>Operations</td>\n",
       "      <td>130.0</td>\n",
       "      <td>130</td>\n",
       "    </tr>\n",
       "    <tr>\n",
       "      <th>4</th>\n",
       "      <td>253651</td>\n",
       "      <td>Hired</td>\n",
       "      <td>Male</td>\n",
       "      <td>Operations</td>\n",
       "      <td>130.0</td>\n",
       "      <td>130</td>\n",
       "    </tr>\n",
       "    <tr>\n",
       "      <th>...</th>\n",
       "      <td>...</td>\n",
       "      <td>...</td>\n",
       "      <td>...</td>\n",
       "      <td>...</td>\n",
       "      <td>...</td>\n",
       "      <td>...</td>\n",
       "    </tr>\n",
       "    <tr>\n",
       "      <th>7163</th>\n",
       "      <td>493131</td>\n",
       "      <td>Hired</td>\n",
       "      <td>Male</td>\n",
       "      <td>Service</td>\n",
       "      <td>130.0</td>\n",
       "      <td>130</td>\n",
       "    </tr>\n",
       "    <tr>\n",
       "      <th>7164</th>\n",
       "      <td>214261</td>\n",
       "      <td>Hired</td>\n",
       "      <td>Female</td>\n",
       "      <td>Service</td>\n",
       "      <td>130.0</td>\n",
       "      <td>130</td>\n",
       "    </tr>\n",
       "    <tr>\n",
       "      <th>7165</th>\n",
       "      <td>932441</td>\n",
       "      <td>Hired</td>\n",
       "      <td>Male</td>\n",
       "      <td>Service</td>\n",
       "      <td>130.0</td>\n",
       "      <td>130</td>\n",
       "    </tr>\n",
       "    <tr>\n",
       "      <th>7166</th>\n",
       "      <td>39010</td>\n",
       "      <td>Rejected</td>\n",
       "      <td>Male</td>\n",
       "      <td>Service</td>\n",
       "      <td>130.0</td>\n",
       "      <td>130</td>\n",
       "    </tr>\n",
       "    <tr>\n",
       "      <th>7167</th>\n",
       "      <td>686055</td>\n",
       "      <td>Hired</td>\n",
       "      <td>Male</td>\n",
       "      <td>Operations</td>\n",
       "      <td>130.0</td>\n",
       "      <td>130</td>\n",
       "    </tr>\n",
       "  </tbody>\n",
       "</table>\n",
       "<p>7168 rows × 6 columns</p>\n",
       "</div>"
      ],
      "text/plain": [
       "      application_id    Status event_name  Department  Unnamed: 4 Unnamed: 5\n",
       "0             383422     Hired       Male     Service       130.0        130\n",
       "1             907518     Hired     Female     Service       130.0        130\n",
       "2             176719  Rejected       Male     Service       130.0        130\n",
       "3             429799  Rejected     Female  Operations       130.0        130\n",
       "4             253651     Hired       Male  Operations       130.0        130\n",
       "...              ...       ...        ...         ...         ...        ...\n",
       "7163          493131     Hired       Male     Service       130.0        130\n",
       "7164          214261     Hired     Female     Service       130.0        130\n",
       "7165          932441     Hired       Male     Service       130.0        130\n",
       "7166           39010  Rejected       Male     Service       130.0        130\n",
       "7167          686055     Hired       Male  Operations       130.0        130\n",
       "\n",
       "[7168 rows x 6 columns]"
      ]
     },
     "execution_count": 59,
     "metadata": {},
     "output_type": "execute_result"
    }
   ],
   "source": [
    "\n",
    "df.fillna(130)"
   ]
  },
  {
   "cell_type": "code",
   "execution_count": 60,
   "id": "c0c15125-e375-40ee-aa56-82f19c2adcca",
   "metadata": {},
   "outputs": [
    {
     "data": {
      "text/html": [
       "<div>\n",
       "<style scoped>\n",
       "    .dataframe tbody tr th:only-of-type {\n",
       "        vertical-align: middle;\n",
       "    }\n",
       "\n",
       "    .dataframe tbody tr th {\n",
       "        vertical-align: top;\n",
       "    }\n",
       "\n",
       "    .dataframe thead th {\n",
       "        text-align: right;\n",
       "    }\n",
       "</style>\n",
       "<table border=\"1\" class=\"dataframe\">\n",
       "  <thead>\n",
       "    <tr style=\"text-align: right;\">\n",
       "      <th></th>\n",
       "      <th>application_id</th>\n",
       "      <th>Status</th>\n",
       "      <th>event_name</th>\n",
       "      <th>Department</th>\n",
       "      <th>Unnamed: 4</th>\n",
       "      <th>Unnamed: 5</th>\n",
       "    </tr>\n",
       "  </thead>\n",
       "  <tbody>\n",
       "    <tr>\n",
       "      <th>0</th>\n",
       "      <td>383422</td>\n",
       "      <td>Hired</td>\n",
       "      <td>Male</td>\n",
       "      <td>Service</td>\n",
       "      <td>NaN</td>\n",
       "      <td>NaN</td>\n",
       "    </tr>\n",
       "    <tr>\n",
       "      <th>1</th>\n",
       "      <td>907518</td>\n",
       "      <td>Hired</td>\n",
       "      <td>Female</td>\n",
       "      <td>Service</td>\n",
       "      <td>NaN</td>\n",
       "      <td>NaN</td>\n",
       "    </tr>\n",
       "    <tr>\n",
       "      <th>2</th>\n",
       "      <td>176719</td>\n",
       "      <td>Rejected</td>\n",
       "      <td>Male</td>\n",
       "      <td>Service</td>\n",
       "      <td>NaN</td>\n",
       "      <td>NaN</td>\n",
       "    </tr>\n",
       "    <tr>\n",
       "      <th>3</th>\n",
       "      <td>429799</td>\n",
       "      <td>Rejected</td>\n",
       "      <td>Female</td>\n",
       "      <td>Operations</td>\n",
       "      <td>NaN</td>\n",
       "      <td>NaN</td>\n",
       "    </tr>\n",
       "    <tr>\n",
       "      <th>4</th>\n",
       "      <td>253651</td>\n",
       "      <td>Hired</td>\n",
       "      <td>Male</td>\n",
       "      <td>Operations</td>\n",
       "      <td>NaN</td>\n",
       "      <td>NaN</td>\n",
       "    </tr>\n",
       "    <tr>\n",
       "      <th>...</th>\n",
       "      <td>...</td>\n",
       "      <td>...</td>\n",
       "      <td>...</td>\n",
       "      <td>...</td>\n",
       "      <td>...</td>\n",
       "      <td>...</td>\n",
       "    </tr>\n",
       "    <tr>\n",
       "      <th>7163</th>\n",
       "      <td>493131</td>\n",
       "      <td>Hired</td>\n",
       "      <td>Male</td>\n",
       "      <td>Service</td>\n",
       "      <td>NaN</td>\n",
       "      <td>NaN</td>\n",
       "    </tr>\n",
       "    <tr>\n",
       "      <th>7164</th>\n",
       "      <td>214261</td>\n",
       "      <td>Hired</td>\n",
       "      <td>Female</td>\n",
       "      <td>Service</td>\n",
       "      <td>NaN</td>\n",
       "      <td>NaN</td>\n",
       "    </tr>\n",
       "    <tr>\n",
       "      <th>7165</th>\n",
       "      <td>932441</td>\n",
       "      <td>Hired</td>\n",
       "      <td>Male</td>\n",
       "      <td>Service</td>\n",
       "      <td>NaN</td>\n",
       "      <td>NaN</td>\n",
       "    </tr>\n",
       "    <tr>\n",
       "      <th>7166</th>\n",
       "      <td>39010</td>\n",
       "      <td>Rejected</td>\n",
       "      <td>Male</td>\n",
       "      <td>Service</td>\n",
       "      <td>NaN</td>\n",
       "      <td>NaN</td>\n",
       "    </tr>\n",
       "    <tr>\n",
       "      <th>7167</th>\n",
       "      <td>686055</td>\n",
       "      <td>Hired</td>\n",
       "      <td>Male</td>\n",
       "      <td>Operations</td>\n",
       "      <td>NaN</td>\n",
       "      <td>NaN</td>\n",
       "    </tr>\n",
       "  </tbody>\n",
       "</table>\n",
       "<p>7168 rows × 6 columns</p>\n",
       "</div>"
      ],
      "text/plain": [
       "      application_id    Status event_name  Department  Unnamed: 4 Unnamed: 5\n",
       "0             383422     Hired       Male     Service         NaN        NaN\n",
       "1             907518     Hired     Female     Service         NaN        NaN\n",
       "2             176719  Rejected       Male     Service         NaN        NaN\n",
       "3             429799  Rejected     Female  Operations         NaN        NaN\n",
       "4             253651     Hired       Male  Operations         NaN        NaN\n",
       "...              ...       ...        ...         ...         ...        ...\n",
       "7163          493131     Hired       Male     Service         NaN        NaN\n",
       "7164          214261     Hired     Female     Service         NaN        NaN\n",
       "7165          932441     Hired       Male     Service         NaN        NaN\n",
       "7166           39010  Rejected       Male     Service         NaN        NaN\n",
       "7167          686055     Hired       Male  Operations         NaN        NaN\n",
       "\n",
       "[7168 rows x 6 columns]"
      ]
     },
     "execution_count": 60,
     "metadata": {},
     "output_type": "execute_result"
    }
   ],
   "source": [
    "df\n"
   ]
  },
  {
   "cell_type": "code",
   "execution_count": null,
   "id": "eb5b9cf4-5365-4b96-8b03-d07e2e57d964",
   "metadata": {},
   "outputs": [],
   "source": [
    "df"
   ]
  },
  {
   "cell_type": "code",
   "execution_count": null,
   "id": "15974664-b564-46e9-9dce-b55ac97ab135",
   "metadata": {},
   "outputs": [],
   "source": []
  }
 ],
 "metadata": {
  "kernelspec": {
   "display_name": "Python 3 (ipykernel)",
   "language": "python",
   "name": "python3"
  },
  "language_info": {
   "codemirror_mode": {
    "name": "ipython",
    "version": 3
   },
   "file_extension": ".py",
   "mimetype": "text/x-python",
   "name": "python",
   "nbconvert_exporter": "python",
   "pygments_lexer": "ipython3",
   "version": "3.12.2"
  }
 },
 "nbformat": 4,
 "nbformat_minor": 5
}
