{
 "cells": [
  {
   "cell_type": "code",
   "execution_count": 1,
   "id": "076b858f-97a7-4824-8812-aae250e17d96",
   "metadata": {},
   "outputs": [
    {
     "name": "stdout",
     "output_type": "stream",
     "text": [
      "It's alright\n",
      "He is called 'Johnny'\n",
      "He is called \"Johnny\"\n"
     ]
    }
   ],
   "source": [
    "print(\"It's alright\")\n",
    "print(\"He is called 'Johnny'\")\n",
    "print('He is called \"Johnny\"')"
   ]
  },
  {
   "cell_type": "code",
   "execution_count": 6,
   "id": "6a5248c1-0041-4a88-8898-ac96bfe0cbe7",
   "metadata": {},
   "outputs": [
    {
     "name": "stdout",
     "output_type": "stream",
     "text": [
      "Hellow World\n"
     ]
    }
   ],
   "source": [
    "\"\"\"Lorem ipsum dolor sit amet,\n",
    "consectetur adipiscing elit,              #multiline Comments\n",
    "sed do eiusmod tempor incididunt\n",
    "ut labore et dolore magna aliqua.\"\"\"\n",
    "print(\"Hellow World\")"
   ]
  },
  {
   "cell_type": "code",
   "execution_count": 7,
   "id": "96aeb058-85a7-4a9b-97ab-59ce05830a4a",
   "metadata": {},
   "outputs": [
    {
     "name": "stdout",
     "output_type": "stream",
     "text": [
      "Lorem ipsum dolor sit amet,\n",
      "consectetur adipiscing elit,\n",
      "sed do eiusmod tempor incididunt\n",
      "ut labore et dolore magna aliqua.\n"
     ]
    }
   ],
   "source": [
    "a = \"\"\"Lorem ipsum dolor sit amet,\n",
    "consectetur adipiscing elit,\n",
    "sed do eiusmod tempor incididunt\n",
    "ut labore et dolore magna aliqua.\"\"\"\n",
    "print(a)"
   ]
  },
  {
   "cell_type": "code",
   "execution_count": 8,
   "id": "0b203a5e-6080-48a7-94d0-01e0dba6234a",
   "metadata": {},
   "outputs": [
    {
     "name": "stdout",
     "output_type": "stream",
     "text": [
      "e\n"
     ]
    }
   ],
   "source": [
    "a = \"Hello, World!\"\n",
    "print(a[1])"
   ]
  },
  {
   "cell_type": "code",
   "execution_count": 9,
   "id": "c8d43777-7953-466c-92e7-e8f159218dc1",
   "metadata": {},
   "outputs": [
    {
     "name": "stdout",
     "output_type": "stream",
     "text": [
      "b\n",
      "a\n",
      "n\n",
      "a\n",
      "n\n",
      "a\n"
     ]
    }
   ],
   "source": [
    "for x in \"banana\":\n",
    "  print(x)"
   ]
  },
  {
   "cell_type": "code",
   "execution_count": 13,
   "id": "0516e57a-8c46-47f3-b16a-8535dc421eac",
   "metadata": {},
   "outputs": [
    {
     "name": "stdout",
     "output_type": "stream",
     "text": [
      "NO,'free'is not present\n"
     ]
    }
   ],
   "source": [
    "txt = \"The best things in life are free!\"\n",
    "if \"free\" not in txt:\n",
    "  print(\"Yes, 'free' is present\")\n",
    "else:\n",
    "  print(\"NO,'free'is not present\")  \n",
    "    "
   ]
  },
  {
   "cell_type": "code",
   "execution_count": null,
   "id": "34f7917d-e72c-4505-8208-c092878f29b5",
   "metadata": {},
   "outputs": [],
   "source": [
    "a = \"Hello, World!\"\n",
    "print(a.upper())\n",
    "print(a.lower())\n",
    "print(a.strip()) # returns \"Hello, World!\"\n",
    "print(a.replace(\"H\", \"J\"))\n",
    "print(a.split(\",\")) # returns ['Hello', ' World!']"
   ]
  },
  {
   "cell_type": "code",
   "execution_count": 17,
   "id": "d4c60230-9f84-4e53-8995-3dd6cc946c65",
   "metadata": {},
   "outputs": [
    {
     "name": "stdout",
     "output_type": "stream",
     "text": [
      "My name is John, my age is 36\n"
     ]
    }
   ],
   "source": [
    "age = 36\n",
    "txt = f\"My name is John, my age is {age}\"          #f__strings\n",
    "print(txt)\n"
   ]
  },
  {
   "cell_type": "code",
   "execution_count": 21,
   "id": "5c677ddf-a145-4698-8e15-8fe16c65e138",
   "metadata": {},
   "outputs": [
    {
     "name": "stdout",
     "output_type": "stream",
     "text": [
      "The price is 59.000 dollars\n"
     ]
    }
   ],
   "source": [
    "price = 59\n",
    "txt = f\"The price is {price:.3f} dollars\"\n",
    "print(txt)\n"
   ]
  },
  {
   "cell_type": "code",
   "execution_count": 23,
   "id": "190a084f-8d68-464f-9910-09a5fd5c7c4f",
   "metadata": {},
   "outputs": [
    {
     "name": "stdout",
     "output_type": "stream",
     "text": [
      "The price is 1000 dollars\n"
     ]
    }
   ],
   "source": [
    "txt = f\"The price is {20 * 50} dollars\"\n",
    "print(txt)\n"
   ]
  },
  {
   "cell_type": "code",
   "execution_count": null,
   "id": "19ec0a86-2075-40f5-8707-56e4fc30d8a9",
   "metadata": {},
   "outputs": [],
   "source": [
    "Method\tDescription\n",
    "capitalize()\t  Converts the first character to upper case\n",
    "casefold()\t      Converts string into lower case\n",
    "center()\t      Returns a centered string\n",
    "count()\t          Returns the number of times a specified value occurs in a string\n",
    "encode()\t      Returns an encoded version of the string\n",
    "endswith()\t      Returns true if the string ends with the specified value\n",
    "expandtabs()\t  Sets the tab size of the string\n",
    "find()\t          Searches the string for a specified value and returns the position of where it was found\n",
    "format()\t      Formats specified values in a string\n",
    "format_map()\t  Formats specified values in a string\n",
    "index()\t          Searches the string for a specified value and returns the position of where it was found\n",
    "isalnum()\t      Returns True if all characters in the string are alphanumeric\n",
    "isalpha()\t      Returns True if all characters in the string are in the alphabet\n",
    "isascii()\t      Returns True if all characters in the string are ascii characters\n",
    "isdecimal()\t      Returns True if all characters in the string are decimals\n",
    "isdigit()\t      Returns True if all characters in the string are digits\n",
    "isidentifier()\t  Returns True if the string is an identifier\n",
    "islower()\t      Returns True if all characters in the string are lower case\n",
    "isnumeric()\t      Returns True if all characters in the string are numeric\n",
    "isprintable()\t  Returns True if all characters in the string are printable\n",
    "isspace()\t      Returns True if all characters in the string are whitespaces\n",
    "istitle()\t      Returns True if the string follows the rules of a title\n",
    "isupper()      \t  Returns True if all characters in the string are upper case\n",
    "join()\t          Joins the elements of an iterable to the end of the string\n",
    "ljust()\t          Returns a left justified version of the string\n",
    "lower()\t          Converts a string into lower case\n",
    "lstrip()\t      Returns a left trim version of the string\n",
    "maketrans()\t      Returns a translation table to be used in translations\n",
    "partition()\t      Returns a tuple where the string is parted into three parts\n",
    "replace()\t      Returns a string where a specified value is replaced with a specified value\n",
    "rfind()\t          Searches the string for a specified value and returns the last position of where it was found\n",
    "rindex()\t      Searches the string for a specified value and returns the last position of where it was found\n",
    "rjust()\t          Returns a right justified version of the string\n",
    "rpartition()\t  Returns a tuple where the string is parted into three parts\n",
    "rsplit()\t      Splits the string at the specified separator, and returns a list\n",
    "rstrip()\t      Returns a right trim version of the string\n",
    "split()\t          Splits the string at the specified separator, and returns a list\n",
    "splitlines()\t  Splits the string at line breaks and returns a list\n",
    "startswith()\t  Returns true if the string starts with the specified value\n",
    "strip()\t          Returns a trimmed version of the string\n",
    "swapcase()\t      Swaps cases, lower case becomes upper case and vice versa\n",
    "title()\t          Converts the first character of each word to upper case\n",
    "translate()    \t  Returns a translated string\n",
    "upper()\t          Converts a string into upper case\n",
    "zfill()"
   ]
  },
  {
   "cell_type": "code",
   "execution_count": 24,
   "id": "16cfa9f0-64cd-4f51-b253-7ac852d1472c",
   "metadata": {},
   "outputs": [
    {
     "name": "stdout",
     "output_type": "stream",
     "text": [
      "True\n",
      "False\n",
      "False\n"
     ]
    }
   ],
   "source": [
    "print(10 > 9)\n",
    "print(10 == 9)\n",
    "print(10 < 9)"
   ]
  },
  {
   "cell_type": "code",
   "execution_count": 25,
   "id": "93e3f33d-a9d1-41d2-89cc-bf501f487ea9",
   "metadata": {},
   "outputs": [
    {
     "name": "stdout",
     "output_type": "stream",
     "text": [
      "True\n",
      "True\n"
     ]
    }
   ],
   "source": [
    "print(bool(\"Hello\"))\n",
    "print(bool(15))\n"
   ]
  },
  {
   "cell_type": "code",
   "execution_count": 26,
   "id": "d23355d4-10c3-4b20-ba55-9ff2a42748d5",
   "metadata": {},
   "outputs": [
    {
     "name": "stdout",
     "output_type": "stream",
     "text": [
      "True\n",
      "True\n"
     ]
    }
   ],
   "source": [
    "x = \"Hello\"\n",
    "y = 15\n",
    "\n",
    "print(bool(x))\n",
    "print(bool(y))"
   ]
  },
  {
   "cell_type": "code",
   "execution_count": null,
   "id": "974290a2-6806-430a-8edd-942920d9ff17",
   "metadata": {},
   "outputs": [],
   "source": []
  }
 ],
 "metadata": {
  "kernelspec": {
   "display_name": "Python 3 (ipykernel)",
   "language": "python",
   "name": "python3"
  },
  "language_info": {
   "codemirror_mode": {
    "name": "ipython",
    "version": 3
   },
   "file_extension": ".py",
   "mimetype": "text/x-python",
   "name": "python",
   "nbconvert_exporter": "python",
   "pygments_lexer": "ipython3",
   "version": "3.12.2"
  }
 },
 "nbformat": 4,
 "nbformat_minor": 5
}
