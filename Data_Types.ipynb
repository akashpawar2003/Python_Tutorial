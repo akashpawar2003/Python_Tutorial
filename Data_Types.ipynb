{
 "cells": [
  {
   "cell_type": "code",
   "execution_count": 1,
   "id": "d16f68ff-2820-489f-b4cd-333f7b03404d",
   "metadata": {},
   "outputs": [
    {
     "name": "stdout",
     "output_type": "stream",
     "text": [
      "Hellow World\n"
     ]
    }
   ],
   "source": [
    "print(\"Hellow World\")\n"
   ]
  },
  {
   "cell_type": "markdown",
   "id": "9b4e609d-7935-468c-a832-5be7b58a2feb",
   "metadata": {},
   "source": [
    "DataTypes And Checked Variable is which Datatype"
   ]
  },
  {
   "cell_type": "code",
   "execution_count": 3,
   "id": "a2fdbc4a-8fd5-4ad0-b468-e785fb94ccd6",
   "metadata": {},
   "outputs": [
    {
     "name": "stdout",
     "output_type": "stream",
     "text": [
      "5\n",
      "John\n",
      "<class 'int'>\n",
      "<class 'str'>\n"
     ]
    }
   ],
   "source": [
    "x = 5\n",
    "y = \"John\"\n",
    "print(x)\n",
    "print(y)\n",
    "print(type(x))\n",
    "print(type(y))\n"
   ]
  },
  {
   "cell_type": "markdown",
   "id": "6053282b-bed5-4543-9fa3-14d6852c32fc",
   "metadata": {},
   "source": [
    "type Of Typing A programming"
   ]
  },
  {
   "cell_type": "code",
   "execution_count": 4,
   "id": "a6b58fc4-c7cb-43ab-a0d6-cbf4c0893d8e",
   "metadata": {},
   "outputs": [],
   "source": [
    "myVariableName = \"John\"    #camel case \n",
    "MyVariableName = \"John\"    #pascal case\n",
    "my_variable_name = \"John\"  #snake case \n"
   ]
  },
  {
   "cell_type": "code",
   "execution_count": 5,
   "id": "7225ff8c-ff4d-4f6e-bc9a-b858a55eb30b",
   "metadata": {},
   "outputs": [
    {
     "name": "stdout",
     "output_type": "stream",
     "text": [
      "Orange\n",
      "Banana\n",
      "Cherry\n"
     ]
    }
   ],
   "source": [
    "x, y, z = \"Orange\", \"Banana\", \"Cherry\"\n",
    "print(x)\n",
    "print(y)\n",
    "print(z)"
   ]
  },
  {
   "cell_type": "code",
   "execution_count": 6,
   "id": "c346676a-2b3c-4ae8-9207-e35e80a9f52b",
   "metadata": {},
   "outputs": [
    {
     "name": "stdout",
     "output_type": "stream",
     "text": [
      "Orange\n",
      "Orange\n",
      "Orange\n"
     ]
    }
   ],
   "source": [
    "x = y = z = \"Orange\"\n",
    "print(x)\n",
    "print(y)\n",
    "print(z)"
   ]
  },
  {
   "cell_type": "code",
   "execution_count": 7,
   "id": "5eed38ed-453e-4e51-a786-9dcb0eca3dc8",
   "metadata": {},
   "outputs": [
    {
     "name": "stdout",
     "output_type": "stream",
     "text": [
      "apple\n",
      "banana\n",
      "cherry\n"
     ]
    }
   ],
   "source": [
    "fruits = [\"apple\", \"banana\", \"cherry\"]\n",
    "x, y, z = fruits\n",
    "print(x)\n",
    "print(y)\n",
    "print(z)\n"
   ]
  },
  {
   "cell_type": "code",
   "execution_count": 8,
   "id": "a84b4265-4d5c-4a6c-9716-970c0cf6bfce",
   "metadata": {},
   "outputs": [
    {
     "name": "stdout",
     "output_type": "stream",
     "text": [
      "Python is awesome\n"
     ]
    }
   ],
   "source": [
    "x = \"Python\"\n",
    "y = \"is\"\n",
    "z = \"awesome\"\n",
    "print(x, y, z)"
   ]
  },
  {
   "cell_type": "code",
   "execution_count": 9,
   "id": "ca23b6c1-0e26-49d9-aeea-56a6dc99eb37",
   "metadata": {},
   "outputs": [
    {
     "name": "stdout",
     "output_type": "stream",
     "text": [
      "Python is awesome\n"
     ]
    }
   ],
   "source": [
    "x = \"Python \"\n",
    "y = \"is \"\n",
    "z = \"awesome\"\n",
    "print(x + y + z)"
   ]
  },
  {
   "cell_type": "code",
   "execution_count": 10,
   "id": "27b563b0-89dc-432d-97eb-f00dafaf1d1a",
   "metadata": {},
   "outputs": [
    {
     "name": "stdout",
     "output_type": "stream",
     "text": [
      "15\n"
     ]
    }
   ],
   "source": [
    "x = 5\n",
    "y = 10\n",
    "print(x + y)"
   ]
  },
  {
   "cell_type": "code",
   "execution_count": 11,
   "id": "9eda355b-3cd8-4ec7-960a-48b2f2125abc",
   "metadata": {},
   "outputs": [
    {
     "ename": "TypeError",
     "evalue": "unsupported operand type(s) for +: 'int' and 'str'",
     "output_type": "error",
     "traceback": [
      "\u001b[1;31m---------------------------------------------------------------------------\u001b[0m",
      "\u001b[1;31mTypeError\u001b[0m                                 Traceback (most recent call last)",
      "Cell \u001b[1;32mIn[11], line 3\u001b[0m\n\u001b[0;32m      1\u001b[0m x \u001b[38;5;241m=\u001b[39m \u001b[38;5;241m5\u001b[39m\n\u001b[0;32m      2\u001b[0m y \u001b[38;5;241m=\u001b[39m \u001b[38;5;124m\"\u001b[39m\u001b[38;5;124mJohn\u001b[39m\u001b[38;5;124m\"\u001b[39m\n\u001b[1;32m----> 3\u001b[0m \u001b[38;5;28mprint\u001b[39m(\u001b[43mx\u001b[49m\u001b[43m \u001b[49m\u001b[38;5;241;43m+\u001b[39;49m\u001b[43m \u001b[49m\u001b[43my\u001b[49m)\n",
      "\u001b[1;31mTypeError\u001b[0m: unsupported operand type(s) for +: 'int' and 'str'"
     ]
    }
   ],
   "source": [
    "x = 5\n",
    "y = \"John\"\n",
    "print(x + y)\n"
   ]
  },
  {
   "cell_type": "code",
   "execution_count": 12,
   "id": "7028cd2f-0f85-45f3-91d3-1680cc4edde2",
   "metadata": {},
   "outputs": [
    {
     "name": "stdout",
     "output_type": "stream",
     "text": [
      "5 John\n"
     ]
    }
   ],
   "source": [
    "x = 5\n",
    "y = \"John\"\n",
    "print(x, y)\n"
   ]
  },
  {
   "cell_type": "markdown",
   "id": "4411170c-7fcb-480f-b7bf-4e8e11f8671a",
   "metadata": {},
   "source": [
    "*Create a variable outside of a function, and use it inside the function\n",
    "\n"
   ]
  },
  {
   "cell_type": "code",
   "execution_count": 13,
   "id": "089d1efd-b93d-4342-8877-2b82f401e86c",
   "metadata": {},
   "outputs": [],
   "source": [
    "x = \"awesome\"\n",
    "\n",
    "def myfunc():\n",
    "  print(\"Python is \" + x)"
   ]
  },
  {
   "cell_type": "code",
   "execution_count": 14,
   "id": "0c24bbe2-c395-4827-a93c-ea19cef37698",
   "metadata": {},
   "outputs": [
    {
     "name": "stdout",
     "output_type": "stream",
     "text": [
      "Python is awesome\n"
     ]
    }
   ],
   "source": [
    "myfunc()"
   ]
  },
  {
   "cell_type": "code",
   "execution_count": 15,
   "id": "a76b3e31-7762-4cfa-8f40-727a7114dade",
   "metadata": {},
   "outputs": [
    {
     "name": "stdout",
     "output_type": "stream",
     "text": [
      "Python is fantastic\n",
      "Python is awesome\n"
     ]
    }
   ],
   "source": [
    "x = \"awesome\"\n",
    "\n",
    "def myfunc():\n",
    "  x = \"fantastic\"\n",
    "  print(\"Python is \" + x)\n",
    "\n",
    "myfunc()\n",
    "\n",
    "print(\"Python is \" + x)"
   ]
  },
  {
   "cell_type": "code",
   "execution_count": 22,
   "id": "3f591b6b-7c5c-497d-892f-7578158490a4",
   "metadata": {},
   "outputs": [
    {
     "name": "stdout",
     "output_type": "stream",
     "text": [
      "fantastic\n",
      "Python is fantastic\n"
     ]
    }
   ],
   "source": [
    "def myfunc():\n",
    "  global x\n",
    "  x = \"fantastic\"\n",
    "  print(x)\n",
    "\n",
    "myfunc()\n",
    "\n",
    "print(\"Python is \" + x)\n"
   ]
  },
  {
   "cell_type": "code",
   "execution_count": 23,
   "id": "c96a5936-ca4f-44d6-8152-e149155cde1e",
   "metadata": {},
   "outputs": [
    {
     "name": "stdout",
     "output_type": "stream",
     "text": [
      "Python is fantastic\n"
     ]
    }
   ],
   "source": [
    "x = \"awesome\"\n",
    "\n",
    "def myfunc():\n",
    "  global x\n",
    "  x = \"fantastic\"\n",
    "\n",
    "myfunc()\n",
    "\n",
    "print(\"Python is \" + x)\n"
   ]
  },
  {
   "cell_type": "code",
   "execution_count": 25,
   "id": "8f1687c1-e25f-42ac-b77d-d713e402c20f",
   "metadata": {},
   "outputs": [
    {
     "name": "stdout",
     "output_type": "stream",
     "text": [
      "Hello World <class 'str'>\n",
      "20 <class 'int'>\n",
      "20.5 <class 'float'>\n",
      "1j <class 'complex'>\n",
      "['apple', 'banana', 'cherry'] <class 'list'>\n",
      "('apple', 'banana', 'cherry') <class 'tuple'>\n",
      "range(0, 6) <class 'range'>\n",
      "{'name': 'John', 'age': 36} <class 'dict'>\n",
      "{'apple', 'cherry', 'banana'} <class 'set'>\n",
      "frozenset({'apple', 'cherry', 'banana'}) <class 'frozenset'>\n",
      "True <class 'bool'>\n",
      "b'Hello' <class 'bytes'>\n",
      "bytearray(b'\\x00\\x00\\x00\\x00\\x00') <class 'bytearray'>\n",
      "<memory at 0x0000022B2A9E6E00> <class 'memoryview'>\n",
      "None <class 'NoneType'>\n"
     ]
    }
   ],
   "source": [
    "x = \"Hello World\"             #str\t\n",
    "print(x,type(x))\n",
    "x = 20\t                      #int\t\n",
    "print(x,type(x))\n",
    "x = 20.5\t                  #float\t\n",
    "print(x,type(x))\n",
    "x = 1j\t                      #complex\t\n",
    "print(x,type(x))\n",
    "x = [\"apple\", \"banana\", \"cherry\"]\t#list\t\n",
    "print(x,type(x))\n",
    "x = (\"apple\", \"banana\", \"cherry\")\t#tuple\n",
    "print(x,type(x))\n",
    "x = range(6)\t                    #range\n",
    "print(x,type(x))\n",
    "x = {\"name\" : \"John\", \"age\" : 36}\t#dict\t\n",
    "print(x,type(x))\n",
    "x = {\"apple\", \"banana\", \"cherry\"}\t#set\t\n",
    "print(x,type(x))\n",
    "x = frozenset({\"apple\", \"banana\", \"cherry\"})\t#frozenset\t\n",
    "print(x,type(x))\n",
    "x = True\t                  #bool\t\n",
    "print(x,type(x))\n",
    "x = b\"Hello\"\t              #bytes\t\n",
    "print(x,type(x))\n",
    "x = bytearray(5)\t          #bytearray\n",
    "print(x,type(x))\n",
    "x = memoryview(bytes(5))\t  #memoryview\t\n",
    "print(x,type(x))\n",
    "x = None                      #none\n",
    "print(x,type(x))"
   ]
  },
  {
   "cell_type": "code",
   "execution_count": null,
   "id": "a084306b-d256-4971-9135-6a5f4349f06b",
   "metadata": {},
   "outputs": [],
   "source": []
  }
 ],
 "metadata": {
  "kernelspec": {
   "display_name": "Python 3 (ipykernel)",
   "language": "python",
   "name": "python3"
  },
  "language_info": {
   "codemirror_mode": {
    "name": "ipython",
    "version": 3
   },
   "file_extension": ".py",
   "mimetype": "text/x-python",
   "name": "python",
   "nbconvert_exporter": "python",
   "pygments_lexer": "ipython3",
   "version": "3.12.2"
  }
 },
 "nbformat": 4,
 "nbformat_minor": 5
}
